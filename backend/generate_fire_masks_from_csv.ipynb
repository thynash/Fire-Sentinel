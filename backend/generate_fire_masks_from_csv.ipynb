{
 "cells": [
  {
   "cell_type": "code",
   "execution_count": null,
   "id": "fa371517",
   "metadata": {},
   "outputs": [],
   "source": [
    "import pandas as pd\n",
    "import numpy as np\n",
    "import xarray as xr\n",
    "import rasterio\n",
    "from rasterio.transform import from_origin\n",
    "from rasterio.features import rasterize\n",
    "from shapely.geometry import Point\n",
    "import geopandas as gpd\n",
    "from pathlib import Path\n",
    "from datetime import datetime"
   ]
  },
  {
   "cell_type": "code",
   "execution_count": null,
   "id": "a9641605",
   "metadata": {},
   "outputs": [],
   "source": [
    "# ---- CONFIG ----\n",
    "CSV_PATH = \"../data/VIIRS_FIRMS/modis_2024_India.csv\"\n",
    "ERA5_TEMPLATE = \"../data/era5_input.grib\"\n",
    "MASK_SAVE_DIR = \"../data/viirs_masks\"\n",
    "RESOLUTION = 0.1  # degrees (match ERA5)\n",
    "CONFIDENCE_THRESHOLD = 50"
   ]
  },
  {
   "cell_type": "code",
   "execution_count": null,
   "id": "7f467e15",
   "metadata": {},
   "outputs": [],
   "source": [
    "Path(MASK_SAVE_DIR).mkdir(parents=True, exist_ok=True)"
   ]
  },
  {
   "cell_type": "code",
   "execution_count": null,
   "id": "dd37b62f",
   "metadata": {},
   "outputs": [],
   "source": [
    "# ---- Load ERA5 Grid as Template ----\n",
    "era5 = xr.open_dataset(ERA5_TEMPLATE, engine=\"cfgrib\", backend_kwargs={\"indexpath\": \"\"})\n",
    "lat = era5.latitude.values\n",
    "lon = era5.longitude.values"
   ]
  },
  {
   "cell_type": "code",
   "execution_count": null,
   "id": "669c51ca",
   "metadata": {},
   "outputs": [],
   "source": [
    "# Create bounds from lat/lon grid\n",
    "min_lon, max_lon = lon.min(), lon.max()\n",
    "min_lat, max_lat = lat.min(), lat.max()"
   ]
  },
  {
   "cell_type": "code",
   "execution_count": null,
   "id": "6e14b729",
   "metadata": {},
   "outputs": [],
   "source": [
    "width = int((max_lon - min_lon) / RESOLUTION)\n",
    "height = int((max_lat - min_lat) / RESOLUTION)\n",
    "transform = from_origin(min_lon, max_lat, RESOLUTION, RESOLUTION)"
   ]
  },
  {
   "cell_type": "code",
   "execution_count": null,
   "id": "02b97e71",
   "metadata": {},
   "outputs": [],
   "source": [
    "# ---- Load Fire CSV ----\n",
    "df = pd.read_csv(CSV_PATH)\n",
    "df = df[df[\"confidence\"] >= CONFIDENCE_THRESHOLD]\n",
    "df[\"datetime\"] = pd.to_datetime(df[\"acq_date\"] + \" \" + df[\"acq_time\"].astype(str).str.zfill(4), format=\"%Y-%m-%d %H%M\")\n",
    "df[\"day\"] = df[\"datetime\"].dt.strftime(\"%Y%m%d\")"
   ]
  },
  {
   "cell_type": "code",
   "execution_count": null,
   "id": "505ab68e",
   "metadata": {},
   "outputs": [],
   "source": [
    "# ---- Group By Day and Rasterize ----\n",
    "for i, (day, group) in enumerate(df.groupby(\"day\")):\n",
    "    points = [Point(xy) for xy in zip(group.longitude, group.latitude)]\n",
    "    gdf = gpd.GeoDataFrame(geometry=points, crs=\"EPSG:4326\")\n",
    "    shapes = ((geom, 1) for geom in gdf.geometry)\n",
    "\n",
    "    mask = rasterize(\n",
    "        shapes=shapes,\n",
    "        out_shape=(height, width),\n",
    "        transform=transform,\n",
    "        fill=0,\n",
    "        dtype=np.uint8\n",
    "    )\n",
    "\n",
    "    # Save as .npy with shape (1, H, W)\n",
    "    np.save(f\"{MASK_SAVE_DIR}/{i:04}.npy\", mask[np.newaxis, :, :])\n",
    "\n",
    "    print(f\"✅ Saved mask for {day} as {i:04}.npy\")"
   ]
  },
  {
   "cell_type": "code",
   "execution_count": null,
   "id": "8caf9a2e",
   "metadata": {
    "lines_to_next_cell": 2
   },
   "outputs": [],
   "source": [
    "print(\"🎯 All masks saved to:\", MASK_SAVE_DIR)"
   ]
  }
 ],
 "metadata": {
  "jupytext": {
   "cell_metadata_filter": "-all",
   "main_language": "python",
   "notebook_metadata_filter": "-all"
  }
 },
 "nbformat": 4,
 "nbformat_minor": 5
}
